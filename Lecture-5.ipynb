{
 "cells": [
  {
   "cell_type": "markdown",
   "metadata": {},
   "source": [
    "1. Write a program that uses a while loop (not a for loop) to read through a string and print the characters of the string one-by-one on separate lines."
   ]
  },
  {
   "cell_type": "code",
   "execution_count": 2,
   "metadata": {},
   "outputs": [
    {
     "name": "stdout",
     "output_type": "stream",
     "text": [
      "I\n",
      " \n",
      "a\n",
      "m\n",
      " \n",
      "S\n",
      "u\n",
      "m\n",
      "a\n",
      "i\n",
      "y\n",
      "a\n"
     ]
    }
   ],
   "source": [
    "i = 0\n",
    "a = 'I am Sumaiya'\n",
    "while i < len(a):\n",
    "    print a[i]\n",
    "    i += 1\n"
   ]
  },
  {
   "cell_type": "markdown",
   "metadata": {},
   "source": [
    "2.Write the same program to print the second characters of the every strings."
   ]
  },
  {
   "cell_type": "code",
   "execution_count": 3,
   "metadata": {},
   "outputs": [
    {
     "name": "stdout",
     "output_type": "stream",
     "text": [
      "u\n",
      "k\n",
      "u\n"
     ]
    }
   ],
   "source": [
    "i = 0\n",
    "a = ['Sumaiya', 'Akter','Sumu',]\n",
    "for  i in a:\n",
    "    if len(i) > 1:\n",
    "        print i[1]\n"
   ]
  },
  {
   "cell_type": "markdown",
   "metadata": {},
   "source": [
    "4. Recall that, given a string s , s.index( ' x ' ) returns the index of the first x in s and an error if there is no x.\n",
    "(a) Write a program that asks the user for a string and a letter. Using a while loop, the program should print the index of the first occurrence of that letter and a message if the string does not contain the letter.\n"
   ]
  },
  {
   "cell_type": "code",
   "execution_count": null,
   "metadata": {},
   "outputs": [
    {
     "name": "stdout",
     "output_type": "stream",
     "text": [
      "Enter a String: My name is Sumaiya\n",
      "Enter a Letter: S\n",
      "\n",
      "First occurrence of \" S \" is found at index: 11 \n",
      "\n",
      "Enter a String: Hello\n",
      "Enter a Letter: s\n",
      "\n",
      "The String does not contain the Letter\n",
      "\n",
      "Enter a String: Sumu\n",
      "Enter a Letter: u\n",
      "\n",
      "First occurrence of \" u \" is found at index: 1 \n",
      "\n"
     ]
    }
   ],
   "source": [
    "i = 0\n",
    "while i < 5: # when condition is true \n",
    "    s = raw_input(\"Enter a String: \") # input a string\n",
    "    letter = raw_input(\"Enter a Letter: \") # input a letter\n",
    "    if letter in s: # if letter is in the string \n",
    "        find = s.index(letter) # find out the first index of the letter\n",
    "        print \"\\nFirst occurrence of \"'\"',letter,'\"'\" is found at index:\",find,\"\\n\" # print statement\n",
    "    else: # if letter is not in the string 's' \n",
    "        print \"\\nThe String does not contain the Letter\\n\"\n",
    "    i = i + 1\n"
   ]
  },
  {
   "cell_type": "markdown",
   "metadata": {},
   "source": [
    "7. The keys in a dictionary are guaranteed to be unique, but the values are not. Write a function called count_values that takes a single dictionary as an argument and returns the number of dis-tinct values it contains. Given the input {’red’:1, ’green’:1, ’blue’:2} , for example, it would return 2."
   ]
  },
  {
   "cell_type": "code",
   "execution_count": null,
   "metadata": {},
   "outputs": [],
   "source": [
    "def count_values(dict): # Here count_values is the function name with single argument dict\n",
    "  values_count = {} # empty dictionary\n",
    "  for key in dict: # if key is in the dictionary\n",
    "    values_count[dict[key]] = dict[key]\n",
    "  return len(values_count) # return the length of values_count\n",
    "\n",
    "dict = {'red':1, 'green':1, 'blue':2} # given input\n",
    "print \"Unique Values in Dictionary:\",count_values(dict)\n"
   ]
  },
  {
   "cell_type": "code",
   "execution_count": null,
   "metadata": {},
   "outputs": [],
   "source": []
  }
 ],
 "metadata": {
  "kernelspec": {
   "display_name": "Python 2",
   "language": "python",
   "name": "python2"
  },
  "language_info": {
   "codemirror_mode": {
    "name": "ipython",
    "version": 2
   },
   "file_extension": ".py",
   "mimetype": "text/x-python",
   "name": "python",
   "nbconvert_exporter": "python",
   "pygments_lexer": "ipython2",
   "version": "2.7.15"
  }
 },
 "nbformat": 4,
 "nbformat_minor": 2
}
