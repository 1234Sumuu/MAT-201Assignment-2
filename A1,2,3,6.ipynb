{
 "cells": [
  {
   "cell_type": "markdown",
   "metadata": {},
   "source": [
    "1. Write a program that repeatedly asks the user to enter product names and prices. Store all of these in a dictionary whose keys are the product names and whose values are the prices. When the user is done entering products and prices, allow them to repeatedly enter a product name and print the corresponding price or a message if the product is not in the dictionary."
   ]
  },
  {
   "cell_type": "code",
   "execution_count": 1,
   "metadata": {},
   "outputs": [
    {
     "name": "stdout",
     "output_type": "stream",
     "text": [
      "Enter your product Name: pen\n",
      "Enter price: 20\n",
      "Want to insert again in the dictionary(y/n): y\n",
      "Enter your product Name: book\n",
      "Enter price: 200\n",
      "Want to insert again in the dictionary(y/n): n\n",
      "\n",
      "All Elements are inserted in the dictionary successfully\n",
      "\n",
      "\n",
      "Tto terminate the program, type 'end'\n",
      "Enter product name: end\n",
      "\n",
      "The program ended\n"
     ]
    }
   ],
   "source": [
    "dict = {} # this is a empty dictionary\n",
    "\n",
    "while True:\n",
    "    k = raw_input(\"Enter your product Name: \")\n",
    "    value = input(\"Enter price: \")\n",
    "    dict[k] = value # storing keys and values in the dictionary\n",
    "    cha = raw_input(\"Want to insert again in the dictionary(y/n): \")\n",
    "    if cha == \"n\": # if choice is no\n",
    "        print(\"\\nAll Elements are inserted in the dictionary successfully\\n\")\n",
    "        break # get out of the while loop\n",
    "    else:\n",
    "        cha == \"y\" # continue inserting keys and values in the dictionary\n",
    "        \n",
    "while True:\n",
    "    print \"\\nTto terminate the program, type 'end'\"\n",
    "    k = raw_input(\"Enter product name: \") # input the product name to print the corresponding price\n",
    "    if k in dict:\n",
    "        print \"The price of \"'\"',k,'\"'\" is\",dict[k] # print the corresponding price of the entered product name\n",
    "    elif k == \"end\":\n",
    "        print \"\\nThe program ended\"\n",
    "        break\n",
    "    else:\n",
    "        print '\"',k,'\"' \" is not in the Dictionary\"\n"
   ]
  },
  {
   "cell_type": "markdown",
   "metadata": {},
   "source": [
    "2.Using the dictionary created in the previous problem, allow the user to enter a dollar amount and print out all the products whose price is less than that amount."
   ]
  },
  {
   "cell_type": "code",
   "execution_count": 2,
   "metadata": {},
   "outputs": [
    {
     "name": "stdout",
     "output_type": "stream",
     "text": [
      "Enter amount: $1500\n",
      "\n",
      "Products whose price is less than \"$ 1500 \":\n",
      "Product: Orange\n",
      "Product: Banana\n"
     ]
    }
   ],
   "source": [
    "dict = {'Apple':15000,'Orange':1200,'Banana':500,'Grape':2000}\n",
    "      \n",
    "amount = input(\"Enter amount: $\") # input the dollar amount\n",
    "print \"\\nProducts whose price is less than \"'\"$',amount,'\"'\":\"\n",
    "for key in dict:\n",
    "    if dict[key] < amount: # if the price is less than the entered amount is\n",
    "        print \"Product:\",key\n"
   ]
  },
  {
   "cell_type": "markdown",
   "metadata": {},
   "source": [
    "3.Write a program that uses a dictionary that contains ten user names and passwords. The program should ask the user to enter their username and password. If the username is not in the dictionary, the program should indicate that the person is not a valid user of the system. If the username is in the dictionary, but the user does not enter the right password, the program should say that the password is invalid. If the password is correct, then the program should tell the user that they are now logged in to the system."
   ]
  },
  {
   "cell_type": "code",
   "execution_count": null,
   "metadata": {},
   "outputs": [],
   "source": [
    "i = 0\n",
    "a = 77000\n",
    "while i < 5:\n",
    "    pa = input(\"Enter the password: \")\n",
    "    if pa == a:\n",
    "        print(\"Login Succesful\")\n",
    "        break\n",
    "    else:\n",
    "        print(\"Wrong Password\")\n",
    "    i += 1\n",
    "    if i == 5:\n",
    "        print(\"\\nYou are kicked off the system\")\n"
   ]
  },
  {
   "cell_type": "code",
   "execution_count": null,
   "metadata": {},
   "outputs": [],
   "source": []
  },
  {
   "cell_type": "markdown",
   "metadata": {},
   "source": [
    "6. Dictionaries provide a convenient way to store structured data. Here is an example dictionary:\n",
    "d=[{ ' name ' : ' Todd ' , ' phone ' : ' 555-1414 ' , ' email ' : ' todd@mail.net ' }, { ' name ' : ' Helga ' , ' phone ' : ' 555-1618 ' , ' email ' : ' helga@mail.net ' }, { ' name ' : ' Princess ' , ' phone ' : ' 555-3141 ' , ' email ' : '' }, { ' name ' : ' LJ ' , ' phone ' : ' 555-2718 ' , ' email ' : ' lj@mail.net ' }]¶\n",
    "Write a program that reads through any dictionary like this and prints the following:\n",
    "(a) All the users whose phone number ends in an 8\n"
   ]
  },
  {
   "cell_type": "code",
   "execution_count": null,
   "metadata": {},
   "outputs": [],
   "source": [
    "# Dictionaries of username, phone number and email\n",
    "d = [{'name' : 'Todd' , 'phone' : '555-1414' , 'email' : 'todd@mail.net'}, \n",
    "     {'name' : 'Helga' , 'phone' : '555-1618' , 'email' : 'helga@mail.net'}, \n",
    "     {'name' : 'Princess' , 'phone' : '555-3141' , 'email' : ''}, \n",
    "     {'name' : 'LJ' , 'phone' : '555-2718' , 'email' : 'lj@mail.net'}]\n",
    "\n",
    "print \"The Name of the Users whose phone number ends in an 8\\n\"\n",
    "for key in d: # if key is in dictionary\n",
    "    for value in key: # if the value is in key\n",
    "        str = key.get('phone') # read and get all of the keys 'phone' from the dictionaries \n",
    "        if str[len(str)-1] == '8': # if all of the phone number that ends in an 8\n",
    "            print \"User:\",key.get('name') # print all of the users whose phone number ends in an 8\n",
    "            break # break statement\n"
   ]
  },
  {
   "cell_type": "code",
   "execution_count": null,
   "metadata": {},
   "outputs": [],
   "source": []
  }
 ],
 "metadata": {
  "kernelspec": {
   "display_name": "Python 2",
   "language": "python",
   "name": "python2"
  },
  "language_info": {
   "codemirror_mode": {
    "name": "ipython",
    "version": 2
   },
   "file_extension": ".py",
   "mimetype": "text/x-python",
   "name": "python",
   "nbconvert_exporter": "python",
   "pygments_lexer": "ipython2",
   "version": "2.7.15"
  }
 },
 "nbformat": 4,
 "nbformat_minor": 2
}
