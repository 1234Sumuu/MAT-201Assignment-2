{
 "cells": [
  {
   "cell_type": "markdown",
   "metadata": {},
   "source": [
    "1.Write a program that repeatedly asks the user to enter product names and prices. Store all of these in a dictionary whose keys are the product names and whose values are the prices. When the user is done entering products and prices, allow them to repeatedly enter a product name and print the corresponding price or a message if the product is not in the dictionary."
   ]
  },
  {
   "cell_type": "code",
   "execution_count": 1,
   "metadata": {},
   "outputs": [
    {
     "name": "stdout",
     "output_type": "stream",
     "text": [
      "Enter your product Name: Apple\n",
      "Enter price: 20\n",
      "Want to insert again in the dictionary(y/n): y\n",
      "Enter your product Name: book\n",
      "Enter price: 400\n",
      "Want to insert again in the dictionary(y/n): y\n",
      "Enter your product Name: pen\n",
      "Enter price: 4000\n",
      "Want to insert again in the dictionary(y/n): n\n",
      "\n",
      "All Elements are inserted in the dictionary successfully\n",
      "\n",
      "\n",
      "Tto terminate the program, type 'end'\n",
      "Enter product name: book\n",
      "The price of \" book \" is 400\n",
      "\n",
      "Tto terminate the program, type 'end'\n",
      "Enter product name: end\n",
      "\n",
      "The program ended\n"
     ]
    }
   ],
   "source": [
    "dict = {} # this is a empty dictionary\n",
    "\n",
    "while True:\n",
    "    k = raw_input(\"Enter your product Name: \")\n",
    "    value = input(\"Enter price: \")\n",
    "    dict[k] = value # storing keys and values in the dictionary\n",
    "    cha = raw_input(\"Want to insert again in the dictionary(y/n): \")\n",
    "    if cha == \"n\": # if choice is no\n",
    "        print(\"\\nAll Elements are inserted in the dictionary successfully\\n\")\n",
    "        break # get out of the while loop\n",
    "    else:\n",
    "        cha == \"y\" # continue inserting keys and values in the dictionary\n",
    "        \n",
    "while True:\n",
    "    print \"\\nTto terminate the program, type 'end'\"\n",
    "    k = raw_input(\"Enter product name: \") # input the product name to print the corresponding price\n",
    "    if k in dict:\n",
    "        print \"The price of \"'\"',k,'\"'\" is\",dict[k] # print the corresponding price of the entered product name\n",
    "    elif k == \"end\":\n",
    "        print \"\\nThe program ended\"\n",
    "        break\n",
    "    else:\n",
    "        print '\"',k,'\"' \" is not in the Dictionary\"\n"
   ]
  },
  {
   "cell_type": "markdown",
   "metadata": {},
   "source": [
    "2.Using the dictionary created in the previous problem, allow the user to enter a dollar amount and print out all the products whose price is less than that amount."
   ]
  },
  {
   "cell_type": "code",
   "execution_count": 11,
   "metadata": {},
   "outputs": [
    {
     "name": "stdout",
     "output_type": "stream",
     "text": [
      "Enter amount: $15000\n",
      "\n",
      "Products whose price is less than \"$ 15000 \":\n",
      "Product: Orange\n",
      "Product: Grape\n",
      "Product: Banana\n"
     ]
    }
   ],
   "source": [
    "dict = {'Apple':15000,'Orange':1200,'Banana':500,'Grape':2000}\n",
    "      \n",
    "amount = input(\"Enter amount: $\") # input the dollar amount\n",
    "print \"\\nProducts whose price is less than \"'\"$',amount,'\"'\":\"\n",
    "for key in dict:\n",
    "    if dict[key] < amount: # if the price is less than the entered amount is\n",
    "        print \"Product:\",key"
   ]
  },
  {
   "cell_type": "markdown",
   "metadata": {},
   "source": [
    "3.Write a program that uses a dictionary that contains ten user names and passwords. The program should ask the user to enter their username and password. If the username is not in the dictionary, the program should indicate that the person is not a valid user of the system. If the username is in the dictionary, but the user does not enter the right password, the program should say that the password is invalid. If the password is correct, then the program should tell the user that they are now logged in to the system."
   ]
  },
  {
   "cell_type": "code",
   "execution_count": 3,
   "metadata": {},
   "outputs": [
    {
     "name": "stdout",
     "output_type": "stream",
     "text": [
      "Enter username: name1\n",
      "Enter password: 1234\n",
      "Loged in successful name1\n"
     ]
    }
   ],
   "source": [
    "data={'name1': '1234', 'name2': '6267', 'name3': '4946'}\n",
    "name = raw_input('Enter username: ')\n",
    "pas = raw_input('Enter password: ')\n",
    "if pas in data[name]:\n",
    "    print 'Loged in successful', name\n",
    "else:\n",
    "    print 'Invalid code'"
   ]
  },
  {
   "cell_type": "markdown",
   "metadata": {},
   "source": [
    "4.Below are the notes used in music: C C# D D# E F F# G G# A A# B The notes for the C major chord are C, E, G. A mathematical way to get this is that E is 4 steps past C and G is 7 steps past C. This works for any base. For example, the notes for D major are D, F#, A. We can represent the major chord steps as a list with two elements: [4,7] . The corresponding lists for some other chord types are shown below:\n",
    "Minor [3,7]\n",
    "Augmented fifth [4,8]\n",
    "Minor fifth [4,6]\n",
    "Major sixth [4,7,9]\n",
    "Minor sixth [3,7,9]\n",
    "Dominant seventh [4,7,10]\n",
    "Minor seventh [3,7,10]\n",
    "Major seventh [4,7,11]\n",
    "Diminished seventh [3,6,10]\n",
    "Write a program that asks the user for the key and the chord type and prints out the notes of the chord. Use a dictionary whose keys are the (musical) keys and whose values are the lists of steps."
   ]
  },
  {
   "cell_type": "code",
   "execution_count": null,
   "metadata": {},
   "outputs": [],
   "source": []
  }
 ],
 "metadata": {
  "kernelspec": {
   "display_name": "Python 2",
   "language": "python",
   "name": "python2"
  },
  "language_info": {
   "codemirror_mode": {
    "name": "ipython",
    "version": 2
   },
   "file_extension": ".py",
   "mimetype": "text/x-python",
   "name": "python",
   "nbconvert_exporter": "python",
   "pygments_lexer": "ipython2",
   "version": "2.7.15"
  }
 },
 "nbformat": 4,
 "nbformat_minor": 2
}
