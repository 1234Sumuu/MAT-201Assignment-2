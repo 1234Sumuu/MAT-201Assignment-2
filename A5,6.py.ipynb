{
 "cells": [
  {
   "cell_type": "markdown",
   "metadata": {},
   "source": [
    "5.Suppose you are given the following list of strings:\n",
    "L = [ ' aabaabac ' , ' cabaabca ' , ' aaabbcba ' , ' aabacbab ' , ' acababba ' ]\n",
    "Patterns like this show up in many places, including DNA sequencing. The user has a string of their own with only some letters filled in and the rest as asterisks. An example is aa** . The user would like to know which of the strings in the list fit with their pattern. In the example just given, the matching strings are the first and fourth. One way to solve this problem is to create a dictionary whose keys are the indices in the user’s string of the non-asterisk characters and whose values are those characters. Write a program implementing this approach (or some other approach) to find the strings that match a user-entered string."
   ]
  },
  {
   "cell_type": "code",
   "execution_count": null,
   "metadata": {},
   "outputs": [],
   "source": [
    "L = [ 'aabaabac' , 'cabaabca' , 'aaabbcba' , 'aabacbab' , 'acababba' ] \n",
    "\n",
    "s=input(\"Enter string with one * :\")\n",
    "\n",
    "i=0\n",
    "check=0\n",
    "while i<5:\n",
    "    check=0\n",
    "    m=0\n",
    "    if s[m]==L[i][m]:\n",
    "        check=1\n",
    "        m=m+1\n",
    "        while m<len(s)-1 and check==1:\n",
    "            if s[m]!=L[i][m]:\n",
    "                check=0\n",
    "        m=m+1\n",
    "    if check==1:\n",
    "        print(L[i])\n",
    "    i=i+1\n",
    "\n",
    "if check==0:\n",
    "    print('No Match')"
   ]
  },
  {
   "cell_type": "markdown",
   "metadata": {},
   "source": [
    "6.Dictionaries provide a convenient way to store structured data. Here is an example dictionary:\n",
    "d=[{ ' name ' : ' Todd ' , ' phone ' : ' 555-1414 ' , ' email ' : ' todd@mail.net ' }, { ' name ' : ' Helga ' , ' phone ' : ' 555-1618 ' , ' email ' : ' helga@mail.net ' }, { ' name ' : ' Princess ' , ' phone ' : ' 555-3141 ' , ' email ' : '' }, { ' name ' : ' LJ ' , ' phone ' : ' 555-2718 ' , ' email ' : ' lj@mail.net ' }]¶\n",
    "Write a program that reads through any dictionary like this and prints the following:\n",
    "(a) All the users whose phone number ends in an 8\n"
   ]
  },
  {
   "cell_type": "code",
   "execution_count": null,
   "metadata": {},
   "outputs": [],
   "source": [
    "# Dictionaries of username, phone number and email\n",
    "d = [{'name' : 'Todd' , 'phone' : '555-1414' , 'email' : 'todd@mail.net'}, \n",
    "     {'name' : 'Helga' , 'phone' : '555-1618' , 'email' : 'helga@mail.net'}, \n",
    "     {'name' : 'Princess' , 'phone' : '555-3141' , 'email' : ''}, \n",
    "     {'name' : 'LJ' , 'phone' : '555-2718' , 'email' : 'lj@mail.net'}]\n",
    "\n",
    "print \"The Name of the Users whose phone number ends in an 8\\n\"\n",
    "for key in d: # if key is in dictionary\n",
    "    for value in key: # if the value is in key\n",
    "        str = key.get('phone') # read and get all of the keys 'phone' from the dictionaries \n",
    "        if str[len(str)-1] == '8': # if all of the phone number that ends in an 8\n",
    "            print \"User:\",key.get('name') # print all of the users whose phone number ends in an 8\n",
    "            break # break statement\n"
   ]
  },
  {
   "cell_type": "markdown",
   "metadata": {},
   "source": [
    "b. All the users that don’t have an email address listed"
   ]
  },
  {
   "cell_type": "code",
   "execution_count": null,
   "metadata": {},
   "outputs": [],
   "source": [
    "d = [{ 'name' : 'Todd' , 'phone' : '555-1414' , 'email' : 'todd@mail.net' }, \n",
    "     { 'name' : 'Helga' , 'phone' : '555-1618' , 'email' : 'helga@mail.net' }, \n",
    "     { 'name' : 'Princess' , 'phone' : '555-3141' , 'email' : ' ' }, \n",
    "     { 'name' : 'LJ' , 'phone' : '555-2718' , 'email' : 'lj@mail.net' }]\n",
    "\n",
    "print \"The Name of the Users that don’t have an email address listed\\n\"\n",
    "for key in d: # if key is in dictionary\n",
    "    for value in key: # if the value is in key\n",
    "        str = key.get('email') # read and get all of the keys 'email' from the dictionaries \n",
    "        if str[len(str)-1] == ' ': ## if all of the user that don’t have an email address\n",
    "            print \"User:\",key.get('name') # print all of the users that don’t have an email address listed\n",
    "            break # break statement\n"
   ]
  },
  {
   "cell_type": "code",
   "execution_count": null,
   "metadata": {},
   "outputs": [],
   "source": []
  }
 ],
 "metadata": {
  "kernelspec": {
   "display_name": "Python 2",
   "language": "python",
   "name": "python2"
  },
  "language_info": {
   "codemirror_mode": {
    "name": "ipython",
    "version": 2
   },
   "file_extension": ".py",
   "mimetype": "text/x-python",
   "name": "python",
   "nbconvert_exporter": "python",
   "pygments_lexer": "ipython2",
   "version": "2.7.15"
  }
 },
 "nbformat": 4,
 "nbformat_minor": 2
}
